{
 "cells": [
  {
   "cell_type": "markdown",
   "metadata": {
    "id": "KNzm7dkt5Q1o"
   },
   "source": [
    "# SETUP"
   ]
  },
  {
   "cell_type": "code",
   "execution_count": 9,
   "metadata": {
    "id": "LBjy6Bvs5USg"
   },
   "outputs": [],
   "source": [
    "import sys\n",
    "import random\n",
    "import numpy as np\n",
    "import pandas as pd\n",
    "import pymorphy2\n",
    "from nltk.corpus import stopwords\n",
    "import joblib\n",
    "import nltk\n",
    "nltk.download(\"stopwords\")\n",
    "\n",
    "import matplotlib.pyplot as plt\n",
    "%matplotlib inline\n",
    "import seaborn as sns\n",
    "\n",
    "from catboost import CatBoostRegressor\n",
    "from sklearn.model_selection import train_test_split\n",
    "\n",
    "import tensorflow as tf\n",
    "import tensorflow.keras.layers as L\n",
    "from tensorflow.keras.models import Model, Sequential\n",
    "from tensorflow.keras.preprocessing import sequence\n",
    "from tensorflow.keras.callbacks import ModelCheckpoint, EarlyStopping\n",
    "from tensorflow.keras.optimizers.schedules import ExponentialDecay\n",
    "from tensorflow.keras.layers import Conv1D, Bidirectional, LSTM, Dense, Input, Dropout\n",
    "from tensorflow.keras.layers import SpatialDropout1D\n",
    "from keras.layers import LeakyReLU\n",
    "\n",
    "import warnings\n",
    "warnings.filterwarnings('ignore')"
   ]
  },
  {
   "cell_type": "code",
   "execution_count": null,
   "metadata": {
    "id": "WthAGhuZ5UWY"
   },
   "outputs": [],
   "source": [
    "RANDOM_SEED = 42\n",
    "random.seed(RANDOM_SEED)\n",
    "np.random.seed(RANDOM_SEED)\n",
    "tf.random.set_seed(RANDOM_SEED)"
   ]
  },
  {
   "cell_type": "code",
   "execution_count": null,
   "metadata": {},
   "outputs": [],
   "source": [
    "path_rep = !pwd\n",
    "path_rep = path_rep[0]\n",
    "\n",
    "# установим путь к модулям\n",
    "sys.path.append(f'{path_rep}/modules')\n",
    "\n",
    "from TabularDataAnalysis import primary_info_cols\n",
    "\n",
    "# преобразовать табличные данные после EDA\n",
    "from TabularDataTransform import transform_tabular_base_data\n",
    "# feauture enginering после первичного преобразования\n",
    "from TabularDataTransform import feauture_enginering_tab_data\n",
    "# формировать датафрейм\n",
    "from TabularDataTransform import create_df\n",
    "\n",
    "# грфик ошибки по эпохам\n",
    "from Metrics import history_loss_metrics\n",
    "# MAPE\n",
    "from Metrics import mape\n",
    "\n",
    "# создать датафрейм для единого преобразования текстов\n",
    "from NLPDataTransform import create_nlp_df\n",
    "# перевести тексты в нижний регистр, очистить от символов вне паттерна, применить лемматизацию, удалить стоп-слова\n",
    "from NLPDataTransform import clear_nlp_data\n",
    "# Токенизация \"Мешок слов\"\n",
    "from NLPDataTransform import bag_of_words_tokenize\n",
    "# Токенизация по словосочетанию из 2-х слов\n",
    "from NLPDataTransform import two_gram_tokenize\n",
    "\n",
    "# вывести изображения и стоимость\n",
    "from ImageDataAnalysis import img_price_show\n",
    "# вывести пример аугментации\n",
    "from ImageDataAnalysis import view_sample_augmentation\n",
    "\n",
    "# векторизовать изображения\n",
    "from ImageTransform import get_image_array\n",
    "# настройки для аугментации\n",
    "from ImageTransform import custom_augmentation"
   ]
  },
  {
   "cell_type": "markdown",
   "metadata": {
    "id": "CAnHA5Jq5I36"
   },
   "source": [
    "# DATA"
   ]
  },
  {
   "cell_type": "markdown",
   "metadata": {
    "id": "WI6PG05j6DTw"
   },
   "source": [
    "Посмотрим на типы признаков:\n",
    "\n",
    "* bodyType - категориальный\n",
    "* brand - категориальный\n",
    "* color - категориальный\n",
    "* description - текстовый\n",
    "* engineDisplacement - числовой, представленный как текст\n",
    "* enginePower - числовой, представленный как текст\n",
    "* fuelType - категориальный\n",
    "* mileage - числовой\n",
    "* modelDate - числовой\n",
    "* model_info - категориальный\n",
    "* name - категориальный, желательно сократить размерность\n",
    "* numberOfDoors - категориальный\n",
    "* price - числовой, целевой\n",
    "* productionDate - числовой\n",
    "* sell_id - изображение (файл доступен по адресу, основанному на sell_id)\n",
    "* vehicleConfiguration - не используется (комбинация других столбцов)\n",
    "* vehicleTransmission - категориальный\n",
    "* Владельцы - категориальный\n",
    "* Владение - числовой, представленный как текст\n",
    "* ПТС - категориальный\n",
    "* Привод - категориальный\n",
    "* Руль - категориальный"
   ]
  },
  {
   "cell_type": "markdown",
   "metadata": {
    "id": "9RdjEQ6cT9ux"
   },
   "source": [
    "# Tabular\n",
    "\n",
    "Работаем с табличными данными"
   ]
  },
  {
   "cell_type": "markdown",
   "metadata": {
    "id": "WVKbwLqCTomY"
   },
   "source": [
    "## Подготовим табличные данные"
   ]
  },
  {
   "cell_type": "code",
   "execution_count": null,
   "metadata": {
    "id": "1P-nQ-_R5Qdn"
   },
   "outputs": [],
   "source": [
    "# загрузим данные\n",
    "DATA_DIR = 'data'\n",
    "train = pd.read_csv(DATA_DIR + '/train.csv')\n",
    "test = pd.read_csv(DATA_DIR + '/test.csv')\n",
    "sample_submission = pd.read_csv(DATA_DIR + '/sample_submission.csv')"
   ]
  },
  {
   "cell_type": "code",
   "execution_count": null,
   "metadata": {
    "colab": {
     "base_uri": "https://localhost:8080/"
    },
    "id": "Exfak1I7UAT0",
    "outputId": "6f18cec1-f277-4ee8-8b9f-d1182787e7c6"
   },
   "outputs": [],
   "source": [
    "train['sample'] = 1 # помечаем где у нас трейн\n",
    "test['sample'] = 0 # помечаем где у нас тест\n",
    "test['price'] = 0 # в тесте у нас нет значения price, мы его должны предсказать, поэтому пока просто заполняем нулями\n",
    "\n",
    "data = test.append(train, sort=False).reset_index(drop=True) # объединяем\n",
    "print(train.shape, test.shape, data.shape)"
   ]
  },
  {
   "cell_type": "markdown",
   "metadata": {
    "id": "ZWRnDWxwM7ho"
   },
   "source": [
    "## EDA"
   ]
  },
  {
   "cell_type": "markdown",
   "metadata": {
    "id": "IzdW2e-ZUYpp"
   },
   "source": [
    "### Посмотрим на каждый признак и определим преобразования"
   ]
  },
  {
   "cell_type": "code",
   "execution_count": null,
   "metadata": {},
   "outputs": [],
   "source": [
    "primary_info_cols(data=data,cols=data.columns[:-2])"
   ]
  },
  {
   "cell_type": "markdown",
   "metadata": {
    "id": "CgWwclutMazg"
   },
   "source": [
    "### Внесем преобразования"
   ]
  },
  {
   "cell_type": "code",
   "execution_count": null,
   "metadata": {},
   "outputs": [],
   "source": [
    "transform_tabular_base_data(data=data)"
   ]
  },
  {
   "cell_type": "markdown",
   "metadata": {
    "id": "TTm2Qpc4q0WX"
   },
   "source": [
    "### EDA результат"
   ]
  },
  {
   "cell_type": "markdown",
   "metadata": {
    "id": "itjaWSrDsfac"
   },
   "source": [
    "- bodyType - Убрал информацию о дверях (тк есть отдельный признак), объединил редкие данные с похожими основными типами\n",
    "- description - не подходит для табличной модели, но множно вытащить число символов описания\n",
    "- engineDisplacement - перевел в числовой формат, установил mean для undefined\n",
    "- enginePower - перевел в числовой формат\n",
    "- **model_info - возможно, следует объединить brand и info в один признак, чтобы info не путались для разных брендов**\n",
    "- **name - Выделить отдельным признаком long, compact, competition, xDrive, AMG, Blue. Потом удалить, тк дублирует признаки**\n",
    "- **vehicleConfiguration - дублирует - удалить**\n",
    "- **Владение - переведел в числовой формат (float) в годы, установил для nan среднее занчение в зависимости от ModelDate. Но проверить, не влияет ли негативно большое количество nan для точности**\n",
    "- **Руль - недостаточно данных - удалить**"
   ]
  },
  {
   "cell_type": "markdown",
   "metadata": {
    "id": "d2WTYNlQTrsC"
   },
   "source": [
    "## Feauture Enginering"
   ]
  },
  {
   "cell_type": "code",
   "execution_count": null,
   "metadata": {},
   "outputs": [],
   "source": [
    "feauture_enginering_tab_data(data=data)"
   ]
  },
  {
   "cell_type": "markdown",
   "metadata": {},
   "source": [
    "- long, compact, competition, xDrive, AMG, Blue - характеристики из name\n",
    "- description_len - количество символов в описании\n",
    "- productionDate_minus_modelDate - разница даты производства и даты выхода моделей\n",
    "- enginePower_on_engineDisplacement - мощность двигателя на объем\n",
    "- mileage_on_enginePower - пробег на мощность двигателя\n",
    "- mileage_on_engineDisplacement - пробег на объем двигателя\n",
    "- mileage_on_Владение - пробег на срок владения автомобилем\n",
    "- productionDate_max_minus_modelDate - лет с момента выпуска модели\n",
    "- productionDate_max_minus_productionDate - лет с момента производства автомобиля\n",
    "- key_words_description - ключевые слова из описания объявления, влияющие на стоимость\n",
    "- mileage_on_date - миль на возраст автомобиля"
   ]
  },
  {
   "cell_type": "markdown",
   "metadata": {
    "id": "zGrpH-q4Xlqm"
   },
   "source": [
    "## Анализ корреляций признаков"
   ]
  },
  {
   "cell_type": "code",
   "execution_count": null,
   "metadata": {
    "id": "lmhfdqNygnSJ"
   },
   "outputs": [],
   "source": [
    "# оставим только тренировочные данные с прайсом\n",
    "train_data_analytics = data.query('sample == 1').drop(['sample'], axis=1)"
   ]
  },
  {
   "cell_type": "code",
   "execution_count": null,
   "metadata": {
    "colab": {
     "base_uri": "https://localhost:8080/",
     "height": 734
    },
    "id": "10q8B1p6XzTt",
    "outputId": "7f31c5bf-8c79-4694-b48a-770764522804"
   },
   "outputs": [],
   "source": [
    "# корреляция\n",
    "fig, ax = plt.subplots(1, 1, figsize=(30, 15))\n",
    "ax = sns.heatmap(train_data_analytics.corr(),fmt='.1g',\n",
    "                 annot=True, cmap='coolwarm')"
   ]
  },
  {
   "cell_type": "markdown",
   "metadata": {
    "id": "SdGtLIm0YpyW"
   },
   "source": [
    "- engineDisplacement и enginePower 0.9, enginePower имеет большую корреляцию с таргет. Оставляем оба, тк высокая корреляция с таргетом.\n",
    "- mileage и modelDate/productionDate -0.7, mileage_on_enginePower/mileage_on_engineDisplacement 0.9, mileage_on_productionDate_norm100 1, productionDate_max_minus_modelDate/productionDate_max_minus_productionDate 0,7. **mileage_on_productionDate_norm100, mileage_on_enginePower - удалить**\n",
    "- modelDate и productionDate 1, productionDate_max_minus_modelDate/productionDate_max_minus_productionDate -1. **modelDate, productionDate, productionDate_max_minus_productionDate - удалить**"
   ]
  },
  {
   "cell_type": "markdown",
   "metadata": {
    "id": "suJD72FgJ4kZ"
   },
   "source": [
    "## Сформируем датафрейм"
   ]
  },
  {
   "cell_type": "code",
   "execution_count": null,
   "metadata": {},
   "outputs": [],
   "source": [
    "df = create_df(data=data)"
   ]
  },
  {
   "cell_type": "code",
   "execution_count": null,
   "metadata": {
    "id": "oFW0nAxqNhGv"
   },
   "outputs": [],
   "source": [
    "# разделим на тренировочные и тестовые данные\n",
    "train_data = df.query('sample == 1').drop(['sample'], axis=1)\n",
    "test_data = df.query('sample == 0').drop(['sample'], axis=1)"
   ]
  },
  {
   "cell_type": "code",
   "execution_count": null,
   "metadata": {
    "id": "aoAPxfI3LXev"
   },
   "outputs": [],
   "source": [
    "# обучающие и тестовые данные\n",
    "y = train_data.price.values\n",
    "X = train_data.drop(['price'], axis=1)\n",
    "X_sub = test_data.drop(['price'], axis=1)"
   ]
  },
  {
   "cell_type": "code",
   "execution_count": null,
   "metadata": {
    "id": "8T_RJO7-P7to"
   },
   "outputs": [],
   "source": [
    "X_train, X_test, y_train, y_test = train_test_split(X, y, test_size=0.15, shuffle=True, random_state=RANDOM_SEED)"
   ]
  },
  {
   "cell_type": "markdown",
   "metadata": {
    "id": "k5pI-KMAP2Lj"
   },
   "source": [
    "## Tabular Models"
   ]
  },
  {
   "cell_type": "markdown",
   "metadata": {
    "id": "_0cQ2naSUVN6"
   },
   "source": [
    "### Neural Networks"
   ]
  },
  {
   "cell_type": "markdown",
   "metadata": {
    "id": "iJ3NcM6AEyxc"
   },
   "source": [
    "Лучшим mlp является NN 1 (Simple), TEST mape: 10.55%"
   ]
  },
  {
   "cell_type": "markdown",
   "metadata": {
    "id": "wWhj_ECjSt-9"
   },
   "source": [
    "#### Neural Network 1 (Simple)"
   ]
  },
  {
   "cell_type": "code",
   "execution_count": null,
   "metadata": {
    "id": "vubLifPqS4rN"
   },
   "outputs": [],
   "source": [
    "model = Sequential()\n",
    "model.add(L.Dense(512, input_dim=X_train.shape[1], activation=\"sigmoid\"))\n",
    "model.add(L.Dropout(0.5))\n",
    "model.add(L.Dense(256, activation=\"relu\"))\n",
    "model.add(L.Dense(256, activation=\"relu\"))\n",
    "model.add(L.Dropout(0.5))\n",
    "model.add(L.Dense(1, activation=\"linear\"))"
   ]
  },
  {
   "cell_type": "code",
   "execution_count": null,
   "metadata": {
    "id": "CuIRVlSqS4t6"
   },
   "outputs": [],
   "source": [
    "# Compile model\n",
    "optimizer = tf.keras.optimizers.Adam(0.01)\n",
    "model.compile(loss='MAPE',optimizer=optimizer, metrics=['MAPE'])"
   ]
  },
  {
   "cell_type": "code",
   "execution_count": null,
   "metadata": {
    "id": "EWeY8ws3S4vq"
   },
   "outputs": [],
   "source": [
    "checkpoint = ModelCheckpoint(\n",
    "    'models/tabular/nn1.hdf5', monitor='val_MAPE',\n",
    "                    save_best_only=True, verbose=0, mode='min')\n",
    "earlystop = EarlyStopping(\n",
    "    monitor='val_MAPE', patience=50, restore_best_weights=True,) \n",
    "callbacks_list = [checkpoint, earlystop]"
   ]
  },
  {
   "cell_type": "code",
   "execution_count": null,
   "metadata": {
    "id": "HQeLhBvdS4xb"
   },
   "outputs": [],
   "source": [
    "history = model.fit(X_train, y_train,\n",
    "                    batch_size=512,\n",
    "                    epochs=350, # фактически мы обучаем пока EarlyStopping не остановит обучение\n",
    "                    validation_data=(X_test, y_test),\n",
    "                    callbacks=callbacks_list,\n",
    "                    verbose=0,\n",
    "                   )"
   ]
  },
  {
   "cell_type": "code",
   "execution_count": null,
   "metadata": {
    "colab": {
     "base_uri": "https://localhost:8080/",
     "height": 281
    },
    "id": "njZhfXK6S4zK",
    "outputId": "401f3292-3686-4ffe-c43c-c48c2596a2aa"
   },
   "outputs": [],
   "source": [
    "# история обучения\n",
    "history_loss_metrics(history)"
   ]
  },
  {
   "cell_type": "code",
   "execution_count": null,
   "metadata": {},
   "outputs": [],
   "source": [
    "# метрика\n",
    "y_pred = model.predict(X_test)[:,0]\n",
    "mape(y_true=y_test, y_pred=y_pred)"
   ]
  },
  {
   "cell_type": "markdown",
   "metadata": {},
   "source": [
    "TEST mape: 10.55%"
   ]
  },
  {
   "cell_type": "markdown",
   "metadata": {
    "id": "iMjhoaZixBrx"
   },
   "source": [
    "#### Neural Network 2 (Relu to LeakyRelu)"
   ]
  },
  {
   "cell_type": "code",
   "execution_count": null,
   "metadata": {
    "id": "jvPxx_jJxFs5"
   },
   "outputs": [],
   "source": [
    "model = Sequential()\n",
    "# model.add(L.Dense(1024, input_dim=X_train.shape[1], activation=\"relu\"))\n",
    "# model.add(L.Dropout(0.5))\n",
    "model.add(L.Dense(512, input_dim=X_train.shape[1]))\n",
    "model.add(LeakyReLU())\n",
    "model.add(L.Dropout(0.5))\n",
    "model.add(L.Dense(256, activation=\"relu\"))\n",
    "model.add(L.Dense(256, activation=\"relu\")) #добавили допонительный полносвязный слой\n",
    "model.add(L.Dropout(0.5))\n",
    "model.add(L.Dense(1, activation=\"linear\"))"
   ]
  },
  {
   "cell_type": "code",
   "execution_count": null,
   "metadata": {
    "id": "eZl2YOaqxFwh"
   },
   "outputs": [],
   "source": [
    "# Compile model\n",
    "optimizer = tf.keras.optimizers.Adam(0.01)\n",
    "model.compile(loss='MAPE',optimizer=optimizer, metrics=['MAPE'])"
   ]
  },
  {
   "cell_type": "code",
   "execution_count": null,
   "metadata": {
    "id": "uUtonPTXxFx3"
   },
   "outputs": [],
   "source": [
    "checkpoint = ModelCheckpoint(\n",
    "    'models/tabular/nn2.hdf5', monitor='val_MAPE',\n",
    "                    save_best_only=True, verbose=0, mode='min')\n",
    "earlystop = EarlyStopping(\n",
    "    monitor='val_MAPE', patience=50, restore_best_weights=True,) \n",
    "callbacks_list = [checkpoint, earlystop]"
   ]
  },
  {
   "cell_type": "code",
   "execution_count": null,
   "metadata": {
    "id": "cXYQIDZkxFzV"
   },
   "outputs": [],
   "source": [
    "history = model.fit(X_train, y_train,\n",
    "                    batch_size=512,\n",
    "                    epochs=350, # фактически мы обучаем пока EarlyStopping не остановит обучение\n",
    "                    validation_data=(X_test, y_test),\n",
    "                    callbacks=callbacks_list,\n",
    "                    verbose=0,\n",
    "                   )"
   ]
  },
  {
   "cell_type": "code",
   "execution_count": null,
   "metadata": {
    "colab": {
     "base_uri": "https://localhost:8080/",
     "height": 281
    },
    "id": "LFbqZSZ-xF2d",
    "outputId": "33b882a4-6686-479c-a214-ba9bc15b08e1"
   },
   "outputs": [],
   "source": [
    "# история обучения\n",
    "history_loss_metrics(history)"
   ]
  },
  {
   "cell_type": "code",
   "execution_count": null,
   "metadata": {
    "colab": {
     "base_uri": "https://localhost:8080/"
    },
    "id": "0HNROyJVxF4n",
    "outputId": "30f76cdd-de6f-422b-dfe9-a71171518df2"
   },
   "outputs": [],
   "source": [
    "# метрика\n",
    "y_pred = model.predict(X_test)[:,0]\n",
    "mape(y_true=y_test, y_pred=y_pred)"
   ]
  },
  {
   "cell_type": "markdown",
   "metadata": {
    "id": "KkdCz0KZ2DQz"
   },
   "source": [
    "full LeakyRelu: 11.07%\n",
    "\n",
    "first LeakyRelu: 10.62%"
   ]
  },
  {
   "cell_type": "markdown",
   "metadata": {
    "id": "RnjmwhOP-dbQ"
   },
   "source": [
    "#### Neural Network 3 (bottle neck)"
   ]
  },
  {
   "cell_type": "code",
   "execution_count": null,
   "metadata": {
    "id": "HU_FUyl3N0ZZ"
   },
   "outputs": [],
   "source": [
    "model = Sequential()\n",
    "model.add(L.Dense(512, input_dim=X_train.shape[1], activation=\"relu\"))\n",
    "model.add(L.Dropout(0.5))\n",
    "model.add(L.Dense(256, activation=\"relu\"))\n",
    "model.add(L.Dropout(0.5))\n",
    "model.add(L.Dense(128, activation=\"relu\"))\n",
    "model.add(L.Dropout(0.25))\n",
    "model.add(L.Dense(256, activation=\"relu\"))\n",
    "model.add(L.Dropout(0.5))\n",
    "model.add(L.Dense(512, activation=\"relu\"))\n",
    "model.add(L.Dropout(0.5))\n",
    "model.add(L.Dense(1, activation=\"linear\"))"
   ]
  },
  {
   "cell_type": "code",
   "execution_count": null,
   "metadata": {
    "id": "vFNpH3b3N1e7"
   },
   "outputs": [],
   "source": [
    "# Compile model\n",
    "optimizer = tf.keras.optimizers.Adam(0.01)\n",
    "model.compile(loss='MAPE',optimizer=optimizer, metrics=['MAPE'])"
   ]
  },
  {
   "cell_type": "code",
   "execution_count": null,
   "metadata": {
    "id": "zTXHyIqDN1ip"
   },
   "outputs": [],
   "source": [
    "checkpoint = ModelCheckpoint(\n",
    "    'models/tabular/nn3.hdf5', monitor='val_MAPE',\n",
    "                    save_best_only=True, verbose=0, mode='min')\n",
    "earlystop = EarlyStopping(\n",
    "    monitor='val_MAPE', patience=50, restore_best_weights=True,) \n",
    "callbacks_list = [checkpoint, earlystop]"
   ]
  },
  {
   "cell_type": "code",
   "execution_count": null,
   "metadata": {
    "id": "z0bS9p8iN1kS"
   },
   "outputs": [],
   "source": [
    "history = model.fit(X_train, y_train,\n",
    "                    batch_size=512,\n",
    "                    epochs=350, # обучаем пока EarlyStopping не остановит обучение\n",
    "                    validation_data=(X_test, y_test),\n",
    "                    callbacks=callbacks_list,\n",
    "                    verbose=1,\n",
    "                   )"
   ]
  },
  {
   "cell_type": "code",
   "execution_count": null,
   "metadata": {},
   "outputs": [],
   "source": [
    "# история обучения\n",
    "history_loss_metrics(history)"
   ]
  },
  {
   "cell_type": "code",
   "execution_count": null,
   "metadata": {
    "colab": {
     "base_uri": "https://localhost:8080/"
    },
    "id": "Koyv52gnN1l1",
    "outputId": "6881b31d-a235-44c2-af85-41c57745e9be"
   },
   "outputs": [],
   "source": [
    "# метрика\n",
    "y_pred = model.predict(X_test)[:,0]\n",
    "mape(y_true=y_test, y_pred=y_pred)"
   ]
  },
  {
   "cell_type": "markdown",
   "metadata": {
    "id": "iBBdMrQLUCSa"
   },
   "source": [
    "mape: 10.81%"
   ]
  },
  {
   "cell_type": "markdown",
   "metadata": {
    "id": "97VxBCYVtcQw"
   },
   "source": [
    "### CatBoost"
   ]
  },
  {
   "cell_type": "markdown",
   "metadata": {
    "id": "XGDOwYhbFV9d"
   },
   "source": [
    "Отдельно проведя gridsearch не добился лучшего результата, используем параметры по умолчанию"
   ]
  },
  {
   "cell_type": "code",
   "execution_count": null,
   "metadata": {
    "colab": {
     "base_uri": "https://localhost:8080/"
    },
    "id": "VqKFbc6AzuB5",
    "outputId": "144c3d83-b7e4-4b3c-d6a9-c479f72e0204"
   },
   "outputs": [],
   "source": [
    "model = CatBoostRegressor(iterations = 5000,\n",
    "                          random_seed = RANDOM_SEED,\n",
    "                          eval_metric='MAPE',\n",
    "                          custom_metric=['RMSE', 'MAE'],\n",
    "                          od_wait=500,\n",
    "                         )\n",
    "model.fit(X_train, np.log(y_train), # логарифм\n",
    "         eval_set=(X_test, np.log(y_test)),\n",
    "         verbose_eval=100,\n",
    "         use_best_model=True,\n",
    "         )"
   ]
  },
  {
   "cell_type": "code",
   "execution_count": null,
   "metadata": {
    "colab": {
     "base_uri": "https://localhost:8080/"
    },
    "id": "GMP_HVZgzuD2",
    "outputId": "3b6901be-45a8-44d7-cbdb-f966f3334a9c"
   },
   "outputs": [],
   "source": [
    "# метрика\n",
    "y_pred = np.exp(model.predict(X_test))\n",
    "mape(y_true=y_test, y_pred=y_pred)"
   ]
  },
  {
   "cell_type": "markdown",
   "metadata": {
    "id": "XeN0R8g4Fimn"
   },
   "source": [
    "TEST mape: 11.17%"
   ]
  },
  {
   "cell_type": "code",
   "execution_count": null,
   "metadata": {},
   "outputs": [],
   "source": [
    "# сохраним модель\n",
    "joblib.dump(model, f'models/tabular/catboost.pkl')"
   ]
  },
  {
   "cell_type": "code",
   "execution_count": null,
   "metadata": {
    "id": "UEEOn7dzzuFp"
   },
   "outputs": [],
   "source": [
    "# сделаем предсказание и сохраним результат\n",
    "sub_predict_catboost = np.exp(model.predict(X_sub))\n",
    "sample_submission['price'] = sub_predict_catboost\n",
    "sample_submission.to_csv('subs/catboost_submission.csv', index=False)"
   ]
  },
  {
   "cell_type": "markdown",
   "metadata": {
    "id": "WQEcryVKUeAg"
   },
   "source": [
    "### Neural Network 1 (Simple) - optimize"
   ]
  },
  {
   "cell_type": "markdown",
   "metadata": {
    "id": "IRrEAuwHE71L"
   },
   "source": [
    "Попробуем улучшить наиболее качественную сеть (NN 1 Simple), снизив шаг спуска"
   ]
  },
  {
   "cell_type": "code",
   "execution_count": null,
   "metadata": {},
   "outputs": [],
   "source": [
    "model = Sequential()\n",
    "model.add(L.Dense(512, input_dim=X_train.shape[1], activation=\"sigmoid\"))\n",
    "model.add(L.Dropout(0.5))\n",
    "model.add(L.Dense(256, activation=\"relu\"))\n",
    "model.add(L.Dense(256, activation=\"relu\"))\n",
    "model.add(L.Dropout(0.5))\n",
    "model.add(L.Dense(1, activation=\"linear\"))"
   ]
  },
  {
   "cell_type": "code",
   "execution_count": null,
   "metadata": {
    "id": "w9dxo73ocGf3"
   },
   "outputs": [],
   "source": [
    "# Загрузим веса\n",
    "model.load_weights('models/tabular/nn1.hdf5')"
   ]
  },
  {
   "cell_type": "code",
   "execution_count": null,
   "metadata": {
    "id": "txfOTDgEcvtm"
   },
   "outputs": [],
   "source": [
    "# Compile model\n",
    "optimizer = tf.keras.optimizers.Adam(ExponentialDecay(1e-2, 100, 0.9))\n",
    "model.compile(loss='MAPE',optimizer=optimizer, metrics=['MAPE'])"
   ]
  },
  {
   "cell_type": "code",
   "execution_count": null,
   "metadata": {
    "id": "ZogLbCo8c3WN"
   },
   "outputs": [],
   "source": [
    "checkpoint = ModelCheckpoint(\n",
    "    'models/tabular/tabular_best_model.hdf5', monitor='val_MAPE',\n",
    "                    save_best_only=True, verbose=0, mode='min')\n",
    "earlystop = EarlyStopping(\n",
    "    monitor='val_MAPE', patience=150, restore_best_weights=True,) \n",
    "callbacks_list = [checkpoint, earlystop]"
   ]
  },
  {
   "cell_type": "code",
   "execution_count": null,
   "metadata": {
    "colab": {
     "base_uri": "https://localhost:8080/"
    },
    "id": "sONOKc6mcGmX",
    "outputId": "a9da58df-3469-48fc-90f0-deabac31b9f6"
   },
   "outputs": [],
   "source": [
    "history = model.fit(X_train, y_train,\n",
    "                    batch_size=512,\n",
    "                    epochs=1000, # фактически мы обучаем пока EarlyStopping не остановит обучение\n",
    "                    validation_data=(X_test, y_test),\n",
    "                    callbacks=callbacks_list,\n",
    "                    verbose=1,\n",
    "                   )"
   ]
  },
  {
   "cell_type": "code",
   "execution_count": null,
   "metadata": {},
   "outputs": [],
   "source": [
    "history_loss_metrics(history)"
   ]
  },
  {
   "cell_type": "code",
   "execution_count": null,
   "metadata": {},
   "outputs": [],
   "source": [
    "# метрика\n",
    "y_pred = model.predict(X_test)[:,0]\n",
    "mape(y_true=y_test, y_pred=y_pred)"
   ]
  },
  {
   "cell_type": "markdown",
   "metadata": {
    "id": "jVirDtI9dydI"
   },
   "source": [
    "\n",
    "best_model_finish: 10.44%"
   ]
  },
  {
   "cell_type": "markdown",
   "metadata": {},
   "source": [
    "### Результат"
   ]
  },
  {
   "cell_type": "markdown",
   "metadata": {},
   "source": [
    "<table>\n",
    "  <tbody><tr>\n",
    "    <th>Модель</th>\n",
    "    <th>Описание</th>\n",
    "    <th>best MAPE</th>\n",
    "    <th>Комментарий</th>\n",
    "  </tr>\n",
    "    <tr>\n",
    "    <td>Neural Network 1 (Simple)</td>\n",
    "    <td>Базовая сеть - классический персептрон</td>\n",
    "    <td>10.55%</td>\n",
    "    <td>Лучший результат</td>\n",
    "  </tr>\n",
    "  <tr>\n",
    "    <td>Neural Network 2 (Relu to LeakyRelu)</td>\n",
    "    <td>Снизу используем слой LeakyReLU</td>\n",
    "    <td>10.62%</td>\n",
    "    <td>Резульат хуже базового</td>\n",
    "  </tr>\n",
    "  <tr>\n",
    "    <td>Neural Network 3 (bottle neck)</td>\n",
    "    <td>Сеть по принципу bottle neck</td>\n",
    "    <td>10.81%</td>\n",
    "    <td>Резульат хуже базового</td>\n",
    "  </tr>\n",
    "  <tr>\n",
    "    <td>CatBoost</td>\n",
    "    <td>Подбор гиперпараметров с помощью gridsearch не помог, логарифмирование y улучшило метрику</td>\n",
    "    <td>11.17%</td>\n",
    "    <td>Достигли лучшего результата для CatBoost</td>\n",
    "  </tr>\n",
    "  <tr>\n",
    "    <td>Neural Network 1 (Simple) - optimize</td>\n",
    "    <td>Используем веса базовой сети и переобучим, снизив шаг спуска</td>\n",
    "    <td>10.44%</td>\n",
    "    <td>Достигли лучшего результата</td>\n",
    "  </tr>\n",
    "</tbody></table>"
   ]
  },
  {
   "cell_type": "markdown",
   "metadata": {
    "id": "6nizGlf3VOa-"
   },
   "source": [
    "# Tabular + NLP"
   ]
  },
  {
   "cell_type": "markdown",
   "metadata": {
    "id": "KFRf0y4SGdE2"
   },
   "source": [
    "Создадим модель с подачей на вход табличных и текстовых данных"
   ]
  },
  {
   "cell_type": "markdown",
   "metadata": {
    "id": "Hj-Fbj8pVwEu"
   },
   "source": [
    "## NLP Data"
   ]
  },
  {
   "cell_type": "code",
   "execution_count": null,
   "metadata": {},
   "outputs": [],
   "source": [
    "# объединим тексты трейна и теста для преобразования\n",
    "data_nlp = create_nlp_df(train, test)"
   ]
  },
  {
   "cell_type": "markdown",
   "metadata": {
    "id": "aj_MBYQkWC71"
   },
   "source": [
    "## Очистка данных"
   ]
  },
  {
   "cell_type": "code",
   "execution_count": null,
   "metadata": {},
   "outputs": [],
   "source": [
    "# составим паттерны для чисел и русских и английских символов\n",
    "patterns = \"[^A-Za-z0-9А-Яа-я]+\"\n",
    "# добавим лемматизацию\n",
    "morph = pymorphy2.MorphAnalyzer()\n",
    "# составим список стоп-слов\n",
    "russian_stopwords = stopwords.words(\"russian\")"
   ]
  },
  {
   "cell_type": "code",
   "execution_count": null,
   "metadata": {},
   "outputs": [],
   "source": [
    "# перевести тексты в нижний регистр, очистить от символов вне паттерна, применить лемматизацию, удалить стоп-слова\n",
    "data_nlp = clear_nlp_data(data_nlp, patterns, morph, russian_stopwords)"
   ]
  },
  {
   "cell_type": "markdown",
   "metadata": {
    "id": "hr1T-YzDWbE8"
   },
   "source": [
    "## Подготовим данные на вход модели"
   ]
  },
  {
   "cell_type": "code",
   "execution_count": null,
   "metadata": {
    "id": "WXmISYVGCIBG"
   },
   "outputs": [],
   "source": [
    "# разделим трейн, валидационные и тест\n",
    "text_train = data_nlp.description.iloc[X_train.index]\n",
    "text_test = data_nlp.description.iloc[X_test.index]\n",
    "text_sub = data_nlp.description.iloc[X_sub.index]"
   ]
  },
  {
   "cell_type": "markdown",
   "metadata": {
    "id": "0LHFYQxlHZh3"
   },
   "source": [
    "Протестировав мешок слов и 2 gram на простой сети определил, что с мешком качество чуть лучше (см. ниже)"
   ]
  },
  {
   "cell_type": "markdown",
   "metadata": {
    "id": "QClEc4HRWeFK"
   },
   "source": [
    "### Bag of words"
   ]
  },
  {
   "cell_type": "code",
   "execution_count": null,
   "metadata": {},
   "outputs": [],
   "source": [
    "text_train_sequences, text_test_sequences, text_sub_sequences, tokenize = bag_of_words_tokenize(\n",
    "    text_train, text_test, text_sub, all_texts=data_nlp['description'])"
   ]
  },
  {
   "cell_type": "markdown",
   "metadata": {
    "id": "fowaZJblFFDN"
   },
   "source": [
    "### 2 gram"
   ]
  },
  {
   "cell_type": "code",
   "execution_count": null,
   "metadata": {},
   "outputs": [],
   "source": [
    "text_train_sequences_2, text_test_sequences_2, text_sub_sequences_2 = two_gram_tokenize(\n",
    "    X_train.index, X_test.index, X_sub.index, all_texts=data_nlp['description'])"
   ]
  },
  {
   "cell_type": "markdown",
   "metadata": {
    "id": "2SOaIDai9ntP"
   },
   "source": [
    "## Обучим модель Tabular + Text"
   ]
  },
  {
   "cell_type": "code",
   "execution_count": null,
   "metadata": {},
   "outputs": [],
   "source": [
    "# установим длинну вектора\n",
    "MAX_SEQUENCE_LENGTH = 256"
   ]
  },
  {
   "cell_type": "markdown",
   "metadata": {
    "id": "bGCJuDq3K6ig"
   },
   "source": [
    "### Multi-Input: Base MLP+NLP (bag of words) (best model)"
   ]
  },
  {
   "cell_type": "code",
   "execution_count": null,
   "metadata": {
    "id": "5El1q01qIt8C"
   },
   "outputs": [],
   "source": [
    "model_mlp = Sequential()\n",
    "model_mlp.add(L.Dense(512, input_dim=X_train.shape[1], activation=\"sigmoid\"))\n",
    "model_mlp.add(L.Dropout(0.5))\n",
    "model_mlp.add(L.Dense(256, activation=\"relu\"))\n",
    "model_mlp.add(L.Dense(256, activation=\"relu\"))\n",
    "model_mlp.add(L.Dropout(0.5))"
   ]
  },
  {
   "cell_type": "code",
   "execution_count": null,
   "metadata": {
    "id": "ONEesADYIu22"
   },
   "outputs": [],
   "source": [
    "model_nlp = Sequential()\n",
    "model_nlp.add(L.Input(shape=MAX_SEQUENCE_LENGTH, name=\"seq_description\"))\n",
    "model_nlp.add(L.Embedding(len(tokenize.word_index)+1, MAX_SEQUENCE_LENGTH,))\n",
    "model_nlp.add(L.LSTM(256, return_sequences=True))\n",
    "model_nlp.add(L.Dropout(0.5))\n",
    "model_nlp.add(L.Dense(64, activation=\"sigmoid\")) #добавим полносвязный слой\n",
    "model_nlp.add(L.LSTM(128,))\n",
    "model_nlp.add(L.Dropout(0.25))\n",
    "model_nlp.add(L.Dense(64, activation=\"relu\"))\n",
    "model_nlp.add(L.Dropout(0.25))"
   ]
  },
  {
   "cell_type": "code",
   "execution_count": null,
   "metadata": {
    "id": "YjA5IwAcIyFa"
   },
   "outputs": [],
   "source": [
    "# объединим слои в голове\n",
    "combinedInput = L.concatenate([model_nlp.output, model_mlp.output])\n",
    "# being our regression head\n",
    "head = L.Dense(64, activation=\"relu\")(combinedInput)\n",
    "head = L.Dense(1, activation=\"linear\")(head)\n",
    "\n",
    "model = Model(inputs=[model_nlp.input, model_mlp.input], outputs=head)"
   ]
  },
  {
   "cell_type": "code",
   "execution_count": null,
   "metadata": {
    "id": "zO9-JqsvI_NS"
   },
   "outputs": [],
   "source": [
    "optimizer = tf.keras.optimizers.Adam(0.01)\n",
    "model.compile(loss='MAPE',optimizer=optimizer, metrics=['MAPE'])"
   ]
  },
  {
   "cell_type": "code",
   "execution_count": null,
   "metadata": {
    "id": "FQnx1WgiI_P8"
   },
   "outputs": [],
   "source": [
    "checkpoint = ModelCheckpoint('models/mlp_nlp/nlp_mlp_base_bow.hdf5', monitor=['val_MAPE'], verbose=0, mode='min')\n",
    "earlystop = EarlyStopping(monitor='val_MAPE', patience=10, restore_best_weights=True,)\n",
    "callbacks_list = [checkpoint, earlystop]"
   ]
  },
  {
   "cell_type": "code",
   "execution_count": null,
   "metadata": {
    "colab": {
     "base_uri": "https://localhost:8080/"
    },
    "id": "pdlclERUI_RO",
    "outputId": "d7deac79-2adf-4e45-b0ec-58bb24119de4"
   },
   "outputs": [],
   "source": [
    "history = model.fit([text_train_sequences, X_train], y_train,\n",
    "                    batch_size=512,\n",
    "                    epochs=500, # фактически мы обучаем пока EarlyStopping не остановит обучение\n",
    "                    validation_data=([text_test_sequences, X_test], y_test),\n",
    "                    callbacks=callbacks_list\n",
    "                   )"
   ]
  },
  {
   "cell_type": "code",
   "execution_count": null,
   "metadata": {},
   "outputs": [],
   "source": [
    "# история обучения\n",
    "history_loss_metrics(history)"
   ]
  },
  {
   "cell_type": "code",
   "execution_count": null,
   "metadata": {},
   "outputs": [],
   "source": [
    "# метрика\n",
    "y_pred = model.predict([text_test_sequences, X_test])[:,0]\n",
    "mape(y_true=y_test, y_pred=y_pred)"
   ]
  },
  {
   "cell_type": "markdown",
   "metadata": {
    "id": "gnZ7pb45w-g4"
   },
   "source": [
    "Уменьшим шаг"
   ]
  },
  {
   "cell_type": "code",
   "execution_count": null,
   "metadata": {
    "id": "8bXtxXB0xB_i"
   },
   "outputs": [],
   "source": [
    "optimizer = tf.keras.optimizers.Adam(0.001)\n",
    "model.compile(loss='MAPE',optimizer=optimizer, metrics=['MAPE'])"
   ]
  },
  {
   "cell_type": "code",
   "execution_count": null,
   "metadata": {
    "id": "HZHOH7sVxCCy"
   },
   "outputs": [],
   "source": [
    "checkpoint = ModelCheckpoint('models/mlp_nlp/nlp_mlp_base_bow.hdf5', monitor=['val_MAPE'], verbose=0, mode='min')\n",
    "earlystop = EarlyStopping(monitor='val_MAPE', patience=25, restore_best_weights=True,)\n",
    "callbacks_list = [checkpoint, earlystop]"
   ]
  },
  {
   "cell_type": "code",
   "execution_count": null,
   "metadata": {
    "colab": {
     "base_uri": "https://localhost:8080/"
    },
    "id": "0YUj1q3XxCGC",
    "outputId": "b7ff8218-f729-4d09-b358-02f6b0c1d1ae"
   },
   "outputs": [],
   "source": [
    "history = model.fit([text_train_sequences, X_train], y_train,\n",
    "                    batch_size=512,\n",
    "                    epochs=500, # фактически мы обучаем пока EarlyStopping не остановит обучение\n",
    "                    validation_data=([text_test_sequences, X_test], y_test),\n",
    "                    callbacks=callbacks_list\n",
    "                   )"
   ]
  },
  {
   "cell_type": "code",
   "execution_count": null,
   "metadata": {
    "colab": {
     "base_uri": "https://localhost:8080/"
    },
    "id": "w7tTTn-QxCIP",
    "outputId": "027085fb-31f8-4141-c24c-9d4e3e8baeda"
   },
   "outputs": [],
   "source": [
    "# метрика\n",
    "y_pred = model.predict([text_test_sequences, X_test])[:,0]\n",
    "mape(y_true=y_test, y_pred=y_pred)"
   ]
  },
  {
   "cell_type": "markdown",
   "metadata": {
    "id": "l4ceZOWhRYej"
   },
   "source": [
    "TEST mape (с числовыми символами): 10.71%\n",
    "\n",
    "TEST mape (только русские и английские символы): 10.73%\n",
    "\n",
    "TEST mape (только русские): 10.96%\n",
    "\n",
    "TEST mape (с числами и русскими и английскими символами): 10.64%"
   ]
  },
  {
   "cell_type": "markdown",
   "metadata": {
    "id": "iEatOw66M9G6"
   },
   "source": [
    "### Base MLP+NLP (2 gram)"
   ]
  },
  {
   "cell_type": "code",
   "execution_count": null,
   "metadata": {
    "id": "SmZcJN1dJTO8"
   },
   "outputs": [],
   "source": [
    "model_mlp = Sequential()\n",
    "model_mlp.add(L.Dense(512, input_dim=X_train.shape[1], activation=\"sigmoid\"))\n",
    "model_mlp.add(L.Dropout(0.5))\n",
    "model_mlp.add(L.Dense(256, activation=\"relu\"))\n",
    "model_mlp.add(L.Dense(256, activation=\"relu\"))\n",
    "model_mlp.add(L.Dropout(0.5))"
   ]
  },
  {
   "cell_type": "code",
   "execution_count": null,
   "metadata": {
    "id": "XcKhgMB9SIt7"
   },
   "outputs": [],
   "source": [
    "model_nlp = Sequential()\n",
    "model_nlp.add(L.Input(shape=512, name=\"seq_description\"))\n",
    "model_nlp.add(L.Embedding(len(tokenize.word_index)+1, MAX_SEQUENCE_LENGTH))\n",
    "model_nlp.add(L.LSTM(256, return_sequences=True))\n",
    "model_nlp.add(L.Dropout(0.5))\n",
    "model_nlp.add(L.Dense(64, activation=\"sigmoid\")) #добавим полносвязный слой\n",
    "model_nlp.add(L.LSTM(128,))\n",
    "model_nlp.add(L.Dropout(0.25))\n",
    "model_nlp.add(L.Dense(64, activation=\"relu\"))\n",
    "model_nlp.add(L.Dropout(0.25))"
   ]
  },
  {
   "cell_type": "code",
   "execution_count": null,
   "metadata": {
    "id": "m3wi-ngMLYjT"
   },
   "outputs": [],
   "source": [
    "# объединим слои в голове\n",
    "combinedInput = L.concatenate([model_nlp.output, model_mlp.output])\n",
    "# being our regression head\n",
    "head = L.Dense(64, activation=\"relu\")(combinedInput)\n",
    "head = L.Dense(1, activation=\"linear\")(head)\n",
    "\n",
    "model_2 = Model(inputs=[model_nlp.input, model_mlp.input], outputs=head)"
   ]
  },
  {
   "cell_type": "code",
   "execution_count": null,
   "metadata": {
    "id": "LqS-IajJLYmE"
   },
   "outputs": [],
   "source": [
    "optimizer = tf.keras.optimizers.Adam(0.01)\n",
    "model_2.compile(loss='MAPE',optimizer=optimizer, metrics=['MAPE'])"
   ]
  },
  {
   "cell_type": "code",
   "execution_count": null,
   "metadata": {
    "id": "O62ErFypLYnu"
   },
   "outputs": [],
   "source": [
    "checkpoint = ModelCheckpoint('models/mlp_nlp/nlp_mlp_base_2_gram.hdf5', monitor=['val_MAPE'], verbose=0, mode='min')\n",
    "earlystop = EarlyStopping(monitor='val_MAPE', patience=10, restore_best_weights=True,)\n",
    "callbacks_list = [checkpoint, earlystop]"
   ]
  },
  {
   "cell_type": "code",
   "execution_count": null,
   "metadata": {
    "id": "lJIsrGhRLYqR"
   },
   "outputs": [],
   "source": [
    "history = model_2.fit([text_train_sequences_2, X_train], y_train,\n",
    "                    batch_size=512,\n",
    "                    epochs=500, # фактически мы обучаем пока EarlyStopping не остановит обучение\n",
    "                    validation_data=([text_test_sequences_2, X_test], y_test),\n",
    "                    callbacks=callbacks_list\n",
    "                   )"
   ]
  },
  {
   "cell_type": "code",
   "execution_count": null,
   "metadata": {
    "colab": {
     "base_uri": "https://localhost:8080/",
     "height": 281
    },
    "id": "GtZntP81N2Og",
    "outputId": "39db64be-6d74-4356-8a9a-5ef07fc9705d"
   },
   "outputs": [],
   "source": [
    "# история обучения\n",
    "history_loss_metrics(history)"
   ]
  },
  {
   "cell_type": "code",
   "execution_count": null,
   "metadata": {},
   "outputs": [],
   "source": [
    "# метрика\n",
    "y_pred = model.predict([text_test_sequences_2, X_test])[:,0]\n",
    "mape(y_true=y_test, y_pred=y_pred)"
   ]
  },
  {
   "cell_type": "markdown",
   "metadata": {
    "id": "l85fe36rR2dq"
   },
   "source": [
    "TEST mape: 10.72%"
   ]
  },
  {
   "cell_type": "markdown",
   "metadata": {
    "id": "ltJP-GyJ6zH1"
   },
   "source": [
    "**bag of words показывает лучший результат - оставляем метод**"
   ]
  },
  {
   "cell_type": "markdown",
   "metadata": {
    "id": "ksrbpF5c93Eh"
   },
   "source": [
    "### Test model v2\n",
    "\n",
    "С полносвязными слоями с большим числом нейронов ближе к голове"
   ]
  },
  {
   "cell_type": "code",
   "execution_count": null,
   "metadata": {
    "id": "vUpVpMhuJseY"
   },
   "outputs": [],
   "source": [
    "model_mlp = Sequential()\n",
    "model_mlp.add(L.Dense(512, input_dim=X_train.shape[1], activation=\"sigmoid\"))\n",
    "model_mlp.add(L.Dropout(0.5))\n",
    "model_mlp.add(L.Dense(256, activation=\"relu\"))\n",
    "model_mlp.add(L.Dense(256, activation=\"relu\"))\n",
    "model_mlp.add(L.Dropout(0.5))"
   ]
  },
  {
   "cell_type": "code",
   "execution_count": null,
   "metadata": {
    "colab": {
     "base_uri": "https://localhost:8080/"
    },
    "id": "BpJMWW8wCjli",
    "outputId": "0c5ce942-e26c-4096-d69e-f4d6f2612be1"
   },
   "outputs": [],
   "source": [
    "# # https://www.kaggle.com/code/arunrk7/nlp-beginner-text-classification-using-lstm\n",
    "model_nlp = Sequential()\n",
    "model_nlp.add(L.Input(shape=MAX_SEQUENCE_LENGTH, name=\"seq_description\"))\n",
    "model_nlp.add(L.Embedding(len(tokenize.word_index)+1, MAX_SEQUENCE_LENGTH,))\n",
    "model_nlp.add(L.SpatialDropout1D(0.2))\n",
    "model_nlp.add(L.Conv1D(64, 5, activation='relu'))\n",
    "model_nlp.add(L.Bidirectional(L.LSTM(64, dropout=0.2, recurrent_dropout=0.2)))\n",
    "model_nlp.add(L.Dense(512, activation='relu'))\n",
    "model_nlp.add(L.Dropout(0.5))\n",
    "model_nlp.add(L.Dense(512, activation='relu'))"
   ]
  },
  {
   "cell_type": "code",
   "execution_count": null,
   "metadata": {
    "id": "Mllp1GGo9In7"
   },
   "outputs": [],
   "source": [
    "combinedInput = L.concatenate([model_nlp.output, model_mlp.output])\n",
    "# being our regression head\n",
    "head = L.Dense(64, activation=\"relu\")(combinedInput)\n",
    "head = L.Dense(1, activation=\"linear\")(head)\n",
    "\n",
    "model = Model(inputs=[model_nlp.input, model_mlp.input], outputs=head)"
   ]
  },
  {
   "cell_type": "code",
   "execution_count": null,
   "metadata": {
    "id": "SuHkG4ax_7qB"
   },
   "outputs": [],
   "source": [
    "optimizer = tf.keras.optimizers.Adam(0.01)\n",
    "model.compile(loss='MAPE',optimizer=optimizer, metrics=['MAPE'])"
   ]
  },
  {
   "cell_type": "code",
   "execution_count": null,
   "metadata": {
    "id": "RHqeCDGo_7sW"
   },
   "outputs": [],
   "source": [
    "checkpoint = ModelCheckpoint('models/mlp_nlp/nlp_mlp_2.hdf5', monitor=['val_MAPE'], verbose=0, mode='min')\n",
    "earlystop = EarlyStopping(monitor='val_MAPE', patience=10, restore_best_weights=True,)\n",
    "callbacks_list = [checkpoint, earlystop]"
   ]
  },
  {
   "cell_type": "code",
   "execution_count": null,
   "metadata": {
    "colab": {
     "base_uri": "https://localhost:8080/"
    },
    "id": "i8rPhhqw_7t9",
    "outputId": "78be99d6-dd6c-4254-a121-b834553fc69c"
   },
   "outputs": [],
   "source": [
    "history = model.fit([text_train_sequences, X_train], y_train,\n",
    "                    batch_size=512,\n",
    "                    epochs=500, # фактически мы обучаем пока EarlyStopping не остановит обучение\n",
    "                    validation_data=([text_test_sequences, X_test], y_test),\n",
    "                    callbacks=callbacks_list\n",
    "                   )"
   ]
  },
  {
   "cell_type": "code",
   "execution_count": null,
   "metadata": {},
   "outputs": [],
   "source": [
    "# история обучения\n",
    "history_loss_metrics(history)"
   ]
  },
  {
   "cell_type": "code",
   "execution_count": null,
   "metadata": {},
   "outputs": [],
   "source": [
    "# метрика\n",
    "y_pred = model.predict([text_test_sequences, X_test])[:,0]\n",
    "mape(y_true=y_test, y_pred=y_pred)"
   ]
  },
  {
   "cell_type": "markdown",
   "metadata": {
    "id": "TzqKP3y8c9uS"
   },
   "source": [
    "TEST mape: 11.26%"
   ]
  },
  {
   "cell_type": "markdown",
   "metadata": {
    "id": "Y3TONUDg97lq"
   },
   "source": [
    "### Test model v3\n",
    "\n",
    "Мало слоев, без LSTM"
   ]
  },
  {
   "cell_type": "code",
   "execution_count": null,
   "metadata": {
    "id": "eUOkk7jU9Isk"
   },
   "outputs": [],
   "source": [
    "model_nlp = Sequential()\n",
    "model_nlp.add(L.Input(shape=MAX_SEQUENCE_LENGTH, name=\"seq_description\"))\n",
    "model_nlp.add(L.Embedding(len(tokenize.word_index)+1, MAX_SEQUENCE_LENGTH,))\n",
    "model_nlp.add(L.GlobalMaxPool1D())\n",
    "model_nlp.add(L.Dense(10, activation='relu'))"
   ]
  },
  {
   "cell_type": "code",
   "execution_count": null,
   "metadata": {
    "id": "vnt0JEYD9Iua"
   },
   "outputs": [],
   "source": [
    "model_mlp = Sequential()\n",
    "model_mlp.add(L.Dense(512, input_dim=X_train.shape[1], activation=\"sigmoid\"))\n",
    "model_mlp.add(L.Dropout(0.5))\n",
    "model_mlp.add(L.Dense(256, activation=\"relu\"))\n",
    "model_mlp.add(L.Dense(256, activation=\"relu\"))\n",
    "model_mlp.add(L.Dropout(0.5))"
   ]
  },
  {
   "cell_type": "code",
   "execution_count": null,
   "metadata": {
    "id": "7_vj_0j89Iwn"
   },
   "outputs": [],
   "source": [
    "# объединим слои в голове\n",
    "combinedInput = L.concatenate([model_nlp.output, model_mlp.output])\n",
    "# being our regression head\n",
    "head = L.Dense(64, activation=\"relu\")(combinedInput)\n",
    "head = L.Dense(1, activation=\"linear\")(head)\n",
    "\n",
    "model = Model(inputs=[model_nlp.input, model_mlp.input], outputs=head)"
   ]
  },
  {
   "cell_type": "code",
   "execution_count": null,
   "metadata": {
    "id": "07MpwcU7EWpD"
   },
   "outputs": [],
   "source": [
    "optimizer = tf.keras.optimizers.Adam(0.01)\n",
    "model.compile(loss='MAPE',optimizer=optimizer, metrics=['MAPE'])"
   ]
  },
  {
   "cell_type": "code",
   "execution_count": null,
   "metadata": {
    "id": "Cwjoja4IEWrc"
   },
   "outputs": [],
   "source": [
    "checkpoint = ModelCheckpoint('models/mlp_nlp/nlp_mlp_3.hdf5', monitor=['val_MAPE'], verbose=0, mode='min')\n",
    "earlystop = EarlyStopping(monitor='val_MAPE', patience=10, restore_best_weights=True,)\n",
    "callbacks_list = [checkpoint, earlystop]"
   ]
  },
  {
   "cell_type": "code",
   "execution_count": null,
   "metadata": {
    "colab": {
     "base_uri": "https://localhost:8080/"
    },
    "id": "RLG5CJ03EWt2",
    "outputId": "a672f6fd-8055-4553-e908-f91986cf7a27"
   },
   "outputs": [],
   "source": [
    "history = model.fit([text_train_sequences, X_train], y_train,\n",
    "                    batch_size=512,\n",
    "                    epochs=500, # фактически мы обучаем пока EarlyStopping не остановит обучение\n",
    "                    validation_data=([text_test_sequences, X_test], y_test),\n",
    "                    callbacks=callbacks_list\n",
    "                   )"
   ]
  },
  {
   "cell_type": "code",
   "execution_count": null,
   "metadata": {},
   "outputs": [],
   "source": [
    "# история обучения\n",
    "history_loss_metrics(history)"
   ]
  },
  {
   "cell_type": "code",
   "execution_count": null,
   "metadata": {
    "colab": {
     "base_uri": "https://localhost:8080/"
    },
    "id": "-9-UzQuREbHw",
    "outputId": "c29702db-58a4-419b-d799-37350cc1b8e9"
   },
   "outputs": [],
   "source": [
    "# метрика\n",
    "y_pred = model.predict([text_test_sequences, X_test])[:,0]\n",
    "mape(y_true=y_test, y_pred=y_pred)"
   ]
  },
  {
   "cell_type": "markdown",
   "metadata": {
    "id": "uGQkKBQxc1d8"
   },
   "source": [
    "TEST mape: 11.58%"
   ]
  },
  {
   "cell_type": "markdown",
   "metadata": {},
   "source": [
    "### Результаты тестирования архитектур\n",
    "\n",
    "<table>\n",
    "  <tbody><tr>\n",
    "    <th>Модель</th>\n",
    "    <th>Описание</th>\n",
    "    <th>best MAPE</th>\n",
    "    <th>Комментарий</th>\n",
    "  </tr>\n",
    "  <tr>\n",
    "    <td>Base</td>\n",
    "    <td>Постепенно снижение количества нейронов в слоях ближе к голове, с полносвязным слоем по середине и dropuot после слоев нейронов</td>\n",
    "    <td>10.64%</td>\n",
    "    <td>Лучший результат</td>\n",
    "  </tr>\n",
    "    <tr>\n",
    "    <td>Test model v2</td>\n",
    "    <td>С полносвязными слоями с большим числом нейронов ближе к голове</td>\n",
    "    <td>11.26%</td>\n",
    "    <td>Результат хуже базовой</td>\n",
    "  </tr>\n",
    "  <tr>\n",
    "    <td>Test model v3</td>\n",
    "    <td>Мало слоев, без LSTM</td>\n",
    "    <td>11.58%</td>\n",
    "    <td>Худший результат</td>\n",
    "  </tr>\n",
    "</tbody></table>\n",
    "\n",
    "**Базовая архитектура показывает лучший результат**"
   ]
  },
  {
   "cell_type": "markdown",
   "metadata": {
    "id": "sOAjP_iMePVt"
   },
   "source": [
    "# MLP+NLP+CV\n",
    "\n",
    "Создадим модель с подачей на вход табличных, текстовых и графических данных"
   ]
  },
  {
   "cell_type": "markdown",
   "metadata": {
    "id": "LlXY9Jz5ekIv"
   },
   "source": [
    "## Подготовка изображений"
   ]
  },
  {
   "cell_type": "code",
   "execution_count": null,
   "metadata": {},
   "outputs": [],
   "source": [
    "# убедимся, что цены и фото подгрузились верно\n",
    "img_price_show(data=train, data_dir=DATA_DIR)"
   ]
  },
  {
   "cell_type": "code",
   "execution_count": null,
   "metadata": {},
   "outputs": [],
   "source": [
    "# векторизуем изображения\n",
    "images_train = get_image_array(data=data, index=X_train.index, data_dir=DATA_DIR)\n",
    "images_test = get_image_array(data=data, index=X_test.index, data_dir=DATA_DIR)\n",
    "images_sub = get_image_array(data=data, index=X_sub.index, data_dir=DATA_DIR)"
   ]
  },
  {
   "cell_type": "code",
   "execution_count": null,
   "metadata": {},
   "outputs": [],
   "source": [
    "# сохраним настройки для аугментации\n",
    "AUGMENTATIONS = custom_augmentation()"
   ]
  },
  {
   "cell_type": "code",
   "execution_count": null,
   "metadata": {},
   "outputs": [],
   "source": [
    "view_sample_augmentation(image=images_train[0], AUGMENTATIONS=AUGMENTATIONS)"
   ]
  },
  {
   "cell_type": "markdown",
   "metadata": {
    "id": "SAeSoxw3qBLW"
   },
   "source": [
    "## Подготовка данных на вход модели"
   ]
  },
  {
   "cell_type": "markdown",
   "metadata": {
    "id": "XXvtC4Vxqf2g"
   },
   "source": [
    "Создим функции для формирования партий табличных и текстовых данных, матриц изображений для входа в комбинированную сеть"
   ]
  },
  {
   "cell_type": "code",
   "execution_count": null,
   "metadata": {},
   "outputs": [],
   "source": [
    "# применить аугментацию к изображениям\n",
    "def process_image(image):\n",
    "    return AUGMENTATIONS(image = image.numpy())['image']\n",
    "\n",
    "# векторизация текста\n",
    "def tokenize_text(text):\n",
    "    return sequence.pad_sequences(tokenize.texts_to_sequences([text.numpy().decode('utf-8')]), maxlen = MAX_SEQUENCE_LENGTH)[0]\n",
    "\n",
    "# Подготовить партии данных (табличные, текстовые, графические)\n",
    "def tf_process_train_dataset_element(image, table_data, text, price):\n",
    "    im_shape = image.shape\n",
    "    [image,] = tf.py_function(process_image, [image], [tf.uint8])\n",
    "    image.set_shape(im_shape)\n",
    "    [text,] = tf.py_function(tokenize_text, [text], [tf.int32])\n",
    "    return (image, table_data, text), price\n",
    "\n",
    "def tf_process_val_dataset_element(image, table_data, text, price):\n",
    "    [text,] = tf.py_function(tokenize_text, [text], [tf.int32])\n",
    "    return (image, table_data, text), price\n",
    "\n",
    "# Подготовить партии данных (табличные, графические)\n",
    "def tf_process_train_dataset_element_tabular_image(image, table_data, price):\n",
    "    im_shape = image.shape\n",
    "    [image,] = tf.py_function(process_image, [image], [tf.uint8])\n",
    "    image.set_shape(im_shape)\n",
    "    return (image, table_data), price\n",
    "\n",
    "def tf_process_val_dataset_element_tabular_image(image, table_data, price):\n",
    "    return (image, table_data), price"
   ]
  },
  {
   "cell_type": "code",
   "execution_count": null,
   "metadata": {},
   "outputs": [],
   "source": [
    "train_dataset = tf.data.Dataset.from_tensor_slices((\n",
    "    images_train, X_train, data.description.iloc[X_train.index], y_train\n",
    "    )).map(tf_process_train_dataset_element)\n",
    "\n",
    "test_dataset = tf.data.Dataset.from_tensor_slices((\n",
    "    images_test, X_test, data.description.iloc[X_test.index], y_test\n",
    "    )).map(tf_process_val_dataset_element)\n",
    "\n",
    "y_sub = np.zeros(len(X_sub))\n",
    "sub_dataset = tf.data.Dataset.from_tensor_slices((\n",
    "    images_sub, X_sub, data.description.iloc[X_sub.index], y_sub\n",
    "    )).map(tf_process_val_dataset_element)"
   ]
  },
  {
   "cell_type": "markdown",
   "metadata": {
    "id": "O4YV4tDQrJrm"
   },
   "source": [
    "## Построим модель (EfficientNetB3) (best)"
   ]
  },
  {
   "cell_type": "code",
   "execution_count": null,
   "metadata": {},
   "outputs": [],
   "source": [
    "# размер изображений\n",
    "size = (320, 240)"
   ]
  },
  {
   "cell_type": "code",
   "execution_count": null,
   "metadata": {
    "id": "jJnIqu6Vq_sG"
   },
   "outputs": [],
   "source": [
    "# загрузим предобученную модель\n",
    "efficientnet_model = tf.keras.applications.efficientnet.EfficientNetB3(weights = 'imagenet', include_top = False, input_shape = (size[1], size[0], 3))"
   ]
  },
  {
   "cell_type": "code",
   "execution_count": null,
   "metadata": {
    "id": "7n9Ce-ojsc1h"
   },
   "outputs": [],
   "source": [
    "efficientnet_output = L.GlobalAveragePooling2D()(efficientnet_model.output)"
   ]
  },
  {
   "cell_type": "code",
   "execution_count": null,
   "metadata": {
    "id": "CAQy8a22oONv"
   },
   "outputs": [],
   "source": [
    "# откроем все слои для обучения\n",
    "efficientnet_model.trainable = True"
   ]
  },
  {
   "cell_type": "code",
   "execution_count": null,
   "metadata": {
    "id": "cR58SNJZq_ts"
   },
   "outputs": [],
   "source": [
    "model_mlp = Sequential()\n",
    "model_mlp.add(L.Dense(512, input_dim=X_train.shape[1], activation=\"sigmoid\"))\n",
    "model_mlp.add(L.Dropout(0.5))\n",
    "model_mlp.add(L.Dense(256, activation=\"relu\"))\n",
    "model_mlp.add(L.Dense(256, activation=\"relu\"))\n",
    "model_mlp.add(L.Dropout(0.5))"
   ]
  },
  {
   "cell_type": "code",
   "execution_count": null,
   "metadata": {
    "id": "8nJkPUCrq_v-"
   },
   "outputs": [],
   "source": [
    "model_nlp = Sequential()\n",
    "model_nlp.add(L.Input(shape=MAX_SEQUENCE_LENGTH, name=\"seq_description\"))\n",
    "model_nlp.add(L.Embedding(len(tokenize.word_index)+1, MAX_SEQUENCE_LENGTH,))\n",
    "model_nlp.add(L.LSTM(256, return_sequences=True))\n",
    "model_nlp.add(L.Dropout(0.5))\n",
    "model_nlp.add(L.Dense(64, activation=\"sigmoid\")) #добавим полносвязный слой\n",
    "model_nlp.add(L.LSTM(128,))\n",
    "model_nlp.add(L.Dropout(0.25))\n",
    "model_nlp.add(L.Dense(64, activation=\"relu\"))\n",
    "model_nlp.add(L.Dropout(0.25))"
   ]
  },
  {
   "cell_type": "code",
   "execution_count": null,
   "metadata": {
    "id": "DGVFxtbpq_yi"
   },
   "outputs": [],
   "source": [
    "# объединим слои в голове\n",
    "combinedInput = L.concatenate([efficientnet_output, model_mlp.output, model_nlp.output])\n",
    "\n",
    "# being our regression head\n",
    "head = L.Dense(256, activation=\"relu\")(combinedInput)\n",
    "head = L.Dense(1,)(head)\n",
    "\n",
    "model = Model(inputs=[efficientnet_model.input, model_mlp.input, model_nlp.input], outputs=head)"
   ]
  },
  {
   "cell_type": "code",
   "execution_count": null,
   "metadata": {
    "id": "zPeqw5p-smKa"
   },
   "outputs": [],
   "source": [
    "# уменьшим шаг\n",
    "optimizer = tf.keras.optimizers.Adam(ExponentialDecay(1e-3, 100, 0.9)) # 1e-3\n",
    "model.compile(loss='MAPE',optimizer=optimizer, metrics=['MAPE'])"
   ]
  },
  {
   "cell_type": "code",
   "execution_count": null,
   "metadata": {
    "id": "jUJ-GZZusmNA"
   },
   "outputs": [],
   "source": [
    "checkpoint = ModelCheckpoint('models/mlp_nlp_cv/cv+nlp+mlp.hdf5', monitor=['val_MAPE'], verbose=0, mode='min')\n",
    "earlystop = EarlyStopping(monitor='val_MAPE', patience=10, restore_best_weights=True,)\n",
    "callbacks_list = [checkpoint, earlystop]"
   ]
  },
  {
   "cell_type": "code",
   "execution_count": null,
   "metadata": {
    "colab": {
     "base_uri": "https://localhost:8080/"
    },
    "id": "l8ASRBKbsmOn",
    "outputId": "04d3f659-e0bb-43a7-cf0e-f8d00dfc64c1"
   },
   "outputs": [],
   "source": [
    "history = model.fit(train_dataset.batch(30),\n",
    "                    epochs=100,\n",
    "                    validation_data = test_dataset.batch(30),\n",
    "                    callbacks=callbacks_list\n",
    "                   )"
   ]
  },
  {
   "cell_type": "code",
   "execution_count": null,
   "metadata": {},
   "outputs": [],
   "source": [
    "# история обучения\n",
    "history_loss_metrics(history)"
   ]
  },
  {
   "cell_type": "code",
   "execution_count": null,
   "metadata": {},
   "outputs": [],
   "source": [
    "# метрика\n",
    "y_pred = model.predict(test_dataset.batch(30))[:,0]\n",
    "mape(y_true=y_test, y_pred=y_pred)"
   ]
  },
  {
   "cell_type": "markdown",
   "metadata": {
    "id": "AVxycuUEBJml"
   },
   "source": [
    "TEST mape: 11.06%"
   ]
  },
  {
   "cell_type": "markdown",
   "metadata": {
    "id": "pj4P-AW9CJ2B"
   },
   "source": [
    "## Протестируем модель mlp+cv"
   ]
  },
  {
   "cell_type": "code",
   "execution_count": null,
   "metadata": {},
   "outputs": [],
   "source": [
    "train_dataset = tf.data.Dataset.from_tensor_slices((\n",
    "    images_train, X_train, y_train\n",
    "    )).map(tf_process_train_dataset_element_tabular_image)\n",
    "\n",
    "test_dataset = tf.data.Dataset.from_tensor_slices((\n",
    "    images_test, X_test, y_test\n",
    "    )).map(tf_process_val_dataset_element_tabular_image)\n",
    "\n",
    "y_sub = np.zeros(len(X_sub))\n",
    "sub_dataset = tf.data.Dataset.from_tensor_slices((\n",
    "    images_sub, X_sub, y_sub\n",
    "    )).map(tf_process_val_dataset_element_tabular_image)"
   ]
  },
  {
   "cell_type": "code",
   "execution_count": null,
   "metadata": {
    "colab": {
     "base_uri": "https://localhost:8080/"
    },
    "id": "l3EU-upCCPcj",
    "outputId": "62679c24-380b-4c96-abb0-c39da96e6c77"
   },
   "outputs": [],
   "source": [
    "# загрузим предобученную модель\n",
    "efficientnet_model = tf.keras.applications.efficientnet.EfficientNetB3(weights = 'imagenet', include_top = False, input_shape = (size[1], size[0], 3))"
   ]
  },
  {
   "cell_type": "code",
   "execution_count": null,
   "metadata": {
    "id": "F6ERuRoxCPe_"
   },
   "outputs": [],
   "source": [
    "efficientnet_output = L.GlobalAveragePooling2D()(efficientnet_model.output)"
   ]
  },
  {
   "cell_type": "code",
   "execution_count": null,
   "metadata": {
    "id": "HpOkXF0TCPhb"
   },
   "outputs": [],
   "source": [
    "# откроем все слои для обучения\n",
    "efficientnet_model.trainable = True"
   ]
  },
  {
   "cell_type": "code",
   "execution_count": null,
   "metadata": {
    "id": "CmP4oZhzCPj9"
   },
   "outputs": [],
   "source": [
    "# заморозим первую половину\n",
    "fine_tune_at = len(efficientnet_model.layers)//2\n",
    "\n",
    "# Keep all other layers frozen\n",
    "for layer in efficientnet_model.layers[:fine_tune_at]:\n",
    "    layer.trainable =  False"
   ]
  },
  {
   "cell_type": "code",
   "execution_count": null,
   "metadata": {
    "id": "dAy1U10wCPmS"
   },
   "outputs": [],
   "source": [
    "model_mlp = Sequential()\n",
    "model_mlp.add(L.Dense(512, input_dim=X_train.shape[1], activation=\"sigmoid\"))\n",
    "model_mlp.add(L.Dropout(0.5))\n",
    "model_mlp.add(L.Dense(256, activation=\"relu\"))\n",
    "model_mlp.add(L.Dense(256, activation=\"relu\"))\n",
    "model_mlp.add(L.Dropout(0.5))"
   ]
  },
  {
   "cell_type": "code",
   "execution_count": null,
   "metadata": {
    "id": "6mlYSi3zCPol"
   },
   "outputs": [],
   "source": [
    "# объединим слои в голове\n",
    "combinedInput = L.concatenate([efficientnet_output, model_mlp.output])\n",
    "\n",
    "# being our regression head\n",
    "head = L.Dense(256, activation=\"relu\")(combinedInput)\n",
    "head = L.Dense(1,)(head)\n",
    "\n",
    "model = Model(inputs=[efficientnet_model.input, model_mlp.input], outputs=head)"
   ]
  },
  {
   "cell_type": "code",
   "execution_count": null,
   "metadata": {
    "id": "R1P-g732CPro"
   },
   "outputs": [],
   "source": [
    "optimizer = tf.keras.optimizers.Adam(ExponentialDecay(1e-3, 100, 0.9))\n",
    "model.compile(loss='MAPE',optimizer=optimizer, metrics=['MAPE'])"
   ]
  },
  {
   "cell_type": "code",
   "execution_count": null,
   "metadata": {
    "id": "T59YHFBNC-9W"
   },
   "outputs": [],
   "source": [
    "checkpoint = ModelCheckpoint('models/mlp_cv/mlp_cvp.hdf5', monitor=['val_MAPE'], verbose=0, mode='min')\n",
    "earlystop = EarlyStopping(monitor='val_MAPE', patience=10, restore_best_weights=True,)\n",
    "callbacks_list = [checkpoint, earlystop]"
   ]
  },
  {
   "cell_type": "code",
   "execution_count": null,
   "metadata": {
    "colab": {
     "base_uri": "https://localhost:8080/"
    },
    "id": "ieblSX7AC_AC",
    "outputId": "fe7e9d07-0e29-43c2-ae2c-ffccd9dba017"
   },
   "outputs": [],
   "source": [
    "history = model.fit(train_dataset.batch(30),\n",
    "                    epochs=100,\n",
    "                    validation_data = test_dataset.batch(30),\n",
    "                    callbacks=callbacks_list\n",
    "                   )"
   ]
  },
  {
   "cell_type": "code",
   "execution_count": null,
   "metadata": {},
   "outputs": [],
   "source": [
    "# история обучения\n",
    "history_loss_metrics(history)"
   ]
  },
  {
   "cell_type": "code",
   "execution_count": null,
   "metadata": {},
   "outputs": [],
   "source": [
    "# метрика\n",
    "y_pred = model.predict(test_dataset.batch(30))[:,0]\n",
    "mape(y_true=y_test, y_pred=y_pred)"
   ]
  },
  {
   "cell_type": "markdown",
   "metadata": {
    "id": "wVco0B2MTO3J"
   },
   "source": [
    "TEST mape: 11.16%"
   ]
  },
  {
   "cell_type": "markdown",
   "metadata": {
    "id": "3CBB5-KssdvC"
   },
   "source": [
    "# Сделаем предсказание для соревнования\n",
    "\n",
    "sub = sum(pred(i) * W(i))"
   ]
  },
  {
   "cell_type": "markdown",
   "metadata": {
    "id": "mWfhyE3cspG_"
   },
   "source": [
    "## Only MLP\n",
    "\n",
    "Только табличные данные"
   ]
  },
  {
   "cell_type": "code",
   "execution_count": null,
   "metadata": {
    "id": "q3vMIIunsr-8"
   },
   "outputs": [],
   "source": [
    "model = Sequential()\n",
    "model.add(L.Dense(512, input_dim=X_train.shape[1], activation=\"sigmoid\"))\n",
    "model.add(L.Dropout(0.5))\n",
    "model.add(L.Dense(256, activation=\"relu\"))\n",
    "model.add(L.Dense(256, activation=\"relu\"))\n",
    "model.add(L.Dropout(0.5))\n",
    "model.add(L.Dense(1, activation=\"linear\"))"
   ]
  },
  {
   "cell_type": "code",
   "execution_count": null,
   "metadata": {
    "id": "ShAdQQ5Js4Ii"
   },
   "outputs": [],
   "source": [
    "# загрузим веса\n",
    "model.load_weights('models/tabular/tabular_best_model.hdf5')"
   ]
  },
  {
   "cell_type": "code",
   "execution_count": null,
   "metadata": {
    "id": "ILiCr1C8s4LW"
   },
   "outputs": [],
   "source": [
    "predict_mlp = model.predict(X_sub)"
   ]
  },
  {
   "cell_type": "code",
   "execution_count": null,
   "metadata": {
    "id": "rEMcA0ras4My"
   },
   "outputs": [],
   "source": [
    "sample_submission['price'] = predict_mlp"
   ]
  },
  {
   "cell_type": "code",
   "execution_count": null,
   "metadata": {
    "id": "TNR8O9r9uIoL"
   },
   "outputs": [],
   "source": [
    "sample_submission.to_csv('subs/mlp_submission.csv', index=False)"
   ]
  },
  {
   "cell_type": "markdown",
   "metadata": {
    "id": "wL2eqwtLain9"
   },
   "source": [
    "score: 11.00814"
   ]
  },
  {
   "cell_type": "markdown",
   "metadata": {
    "id": "VPbb_IMeu_-3"
   },
   "source": [
    "## MLP(0.5) + MLP+NLP(0.3) + MLP+CV(0.2)"
   ]
  },
  {
   "cell_type": "markdown",
   "metadata": {
    "id": "0JEhCmbPYwwp"
   },
   "source": [
    "### MLP_NLP"
   ]
  },
  {
   "cell_type": "code",
   "execution_count": null,
   "metadata": {
    "id": "A6k_pT9bvSSH"
   },
   "outputs": [],
   "source": [
    "model_nlp = Sequential()\n",
    "model_nlp.add(L.Input(shape=MAX_SEQUENCE_LENGTH, name=\"seq_description\"))\n",
    "model_nlp.add(L.Embedding(len(tokenize.word_index)+1, MAX_SEQUENCE_LENGTH,))\n",
    "model_nlp.add(L.LSTM(256, return_sequences=True))\n",
    "model_nlp.add(L.Dropout(0.5))\n",
    "model_nlp.add(L.Dense(64, activation=\"sigmoid\")) #добавим полносвязный слой\n",
    "model_nlp.add(L.LSTM(128,))\n",
    "model_nlp.add(L.Dropout(0.25))\n",
    "model_nlp.add(L.Dense(64, activation=\"relu\"))\n",
    "model_nlp.add(L.Dropout(0.25))"
   ]
  },
  {
   "cell_type": "code",
   "execution_count": null,
   "metadata": {
    "id": "NwUaiCYkvSTb"
   },
   "outputs": [],
   "source": [
    "model_mlp = Sequential()\n",
    "model_mlp.add(L.Dense(512, input_dim=X_train.shape[1], activation=\"sigmoid\"))\n",
    "model_mlp.add(L.Dropout(0.5))\n",
    "model_mlp.add(L.Dense(256, activation=\"relu\"))\n",
    "model_mlp.add(L.Dense(256, activation=\"relu\"))\n",
    "model_mlp.add(L.Dropout(0.5))"
   ]
  },
  {
   "cell_type": "code",
   "execution_count": null,
   "metadata": {
    "id": "YRHkF42ZvSWp"
   },
   "outputs": [],
   "source": [
    "combinedInput = L.concatenate([model_nlp.output, model_mlp.output])\n",
    "# being our regression head\n",
    "head = L.Dense(64, activation=\"relu\")(combinedInput)\n",
    "head = L.Dense(1, activation=\"linear\")(head)\n",
    "\n",
    "model = Model(inputs=[model_nlp.input, model_mlp.input], outputs=head)"
   ]
  },
  {
   "cell_type": "code",
   "execution_count": null,
   "metadata": {
    "id": "VQNBsfV_vSYJ"
   },
   "outputs": [],
   "source": [
    "# Загрузим веса\n",
    "model.load_weights('models/mlp_nlp/nlp_mlp_base_bow.hdf5')"
   ]
  },
  {
   "cell_type": "code",
   "execution_count": null,
   "metadata": {
    "id": "F5x8c42FvSaD"
   },
   "outputs": [],
   "source": [
    "# сохраним резульатат для объединения\n",
    "predict_mlp_nlp = model.predict([text_sub_sequences, X_sub])"
   ]
  },
  {
   "cell_type": "markdown",
   "metadata": {
    "id": "fiwqtqtcY8Ts"
   },
   "source": [
    "### MLP+CV"
   ]
  },
  {
   "cell_type": "code",
   "execution_count": null,
   "metadata": {
    "id": "VxUIbhYnY-0C"
   },
   "outputs": [],
   "source": [
    "train_dataset = tf.data.Dataset.from_tensor_slices((\n",
    "    images_train, X_train, y_train\n",
    "    )).map(tf_process_train_dataset_element_tabular_image)\n",
    "\n",
    "test_dataset = tf.data.Dataset.from_tensor_slices((\n",
    "    images_test, X_test, y_test\n",
    "    )).map(tf_process_val_dataset_element_tabular_image)\n",
    "\n",
    "y_sub = np.zeros(len(X_sub))\n",
    "sub_dataset = tf.data.Dataset.from_tensor_slices((\n",
    "    images_sub, X_sub, y_sub\n",
    "    )).map(tf_process_val_dataset_element_tabular_image)"
   ]
  },
  {
   "cell_type": "code",
   "execution_count": null,
   "metadata": {
    "id": "1U-o3DfeY-5y"
   },
   "outputs": [],
   "source": [
    "efficientnet_model = tf.keras.applications.efficientnet.EfficientNetB3(weights = None, include_top = False, input_shape = (size[1], size[0], 3))"
   ]
  },
  {
   "cell_type": "code",
   "execution_count": null,
   "metadata": {
    "id": "CbbkOKCoY-7d"
   },
   "outputs": [],
   "source": [
    "efficientnet_output = L.GlobalAveragePooling2D()(efficientnet_model.output)"
   ]
  },
  {
   "cell_type": "code",
   "execution_count": null,
   "metadata": {
    "id": "N1OsPPX8Y-9n"
   },
   "outputs": [],
   "source": [
    "model_mlp = Sequential()\n",
    "model_mlp.add(L.Dense(512, input_dim=X_train.shape[1], activation=\"sigmoid\"))\n",
    "model_mlp.add(L.Dropout(0.5))\n",
    "model_mlp.add(L.Dense(256, activation=\"relu\"))\n",
    "model_mlp.add(L.Dense(256, activation=\"relu\"))\n",
    "model_mlp.add(L.Dropout(0.5))"
   ]
  },
  {
   "cell_type": "code",
   "execution_count": null,
   "metadata": {
    "id": "lrlqhLd2Y-_e"
   },
   "outputs": [],
   "source": [
    "combinedInput = L.concatenate([efficientnet_output, model_mlp.output])\n",
    "\n",
    "# being our regression head\n",
    "head = L.Dense(256, activation=\"relu\")(combinedInput)\n",
    "head = L.Dense(1,)(head)\n",
    "\n",
    "model = Model(inputs=[efficientnet_model.input, model_mlp.input], outputs=head)"
   ]
  },
  {
   "cell_type": "code",
   "execution_count": null,
   "metadata": {
    "id": "-7qDZJtTY_BR"
   },
   "outputs": [],
   "source": [
    "# Загрузим веса\n",
    "model.load_weights('models/mlp_cv/mlp_cvp.hdf5')"
   ]
  },
  {
   "cell_type": "code",
   "execution_count": null,
   "metadata": {
    "id": "FlobFO3XY_FH"
   },
   "outputs": [],
   "source": [
    "# сохраним для объединения\n",
    "predict_mlp_cv = model.predict(sub_dataset.batch(30))"
   ]
  },
  {
   "cell_type": "markdown",
   "metadata": {
    "id": "2czHqSjOaczA"
   },
   "source": [
    "### Объединяю предикты"
   ]
  },
  {
   "cell_type": "code",
   "execution_count": null,
   "metadata": {
    "id": "Rd68TwOQacIO"
   },
   "outputs": [],
   "source": [
    "# распределяю веса для рещультатов в зависимости от качества на валидации\n",
    "blend_sub_predict = ((predict_mlp*0.5) + (predict_mlp_nlp*0.3) + (predict_mlp_cv*0.2))\n",
    "sample_submission['price'] = blend_sub_predict\n",
    "sample_submission.to_csv('subs/mlp50_mlpnlp25_mlpcv25submission.csv', index=False)"
   ]
  },
  {
   "cell_type": "markdown",
   "metadata": {
    "id": "4pESsPaufFZQ"
   },
   "source": [
    "score: 10.98914"
   ]
  },
  {
   "cell_type": "markdown",
   "metadata": {
    "id": "ZMvbsScldEiA"
   },
   "source": [
    "## MLP(0.4) + MLP+NLP(0.2) + MLP+CV(0.2) + MLP+NLP+CV(0.2)"
   ]
  },
  {
   "cell_type": "markdown",
   "metadata": {},
   "source": [
    "### MLP+NLP+CV"
   ]
  },
  {
   "cell_type": "code",
   "execution_count": null,
   "metadata": {
    "id": "PM9v61gpd_aE"
   },
   "outputs": [],
   "source": [
    "train_dataset = tf.data.Dataset.from_tensor_slices((\n",
    "    images_train, X_train, data.description.iloc[X_train.index], y_train\n",
    "    )).map(tf_process_train_dataset_element)\n",
    "\n",
    "test_dataset = tf.data.Dataset.from_tensor_slices((\n",
    "    images_test, X_test, data.description.iloc[X_test.index], y_test\n",
    "    )).map(tf_process_val_dataset_element)\n",
    "\n",
    "y_sub = np.zeros(len(X_sub))\n",
    "sub_dataset = tf.data.Dataset.from_tensor_slices((\n",
    "    images_sub, X_sub, data.description.iloc[X_sub.index], y_sub\n",
    "    )).map(tf_process_val_dataset_element)"
   ]
  },
  {
   "cell_type": "code",
   "execution_count": null,
   "metadata": {
    "id": "L4QlDt8wdTQ1"
   },
   "outputs": [],
   "source": [
    "combinedInput = L.concatenate([efficientnet_output, model_mlp.output, model_nlp.output])\n",
    "\n",
    "# being our regression head\n",
    "head = L.Dense(256, activation=\"relu\")(combinedInput)\n",
    "head = L.Dense(1,)(head)\n",
    "\n",
    "model = Model(inputs=[efficientnet_model.input, model_mlp.input, model_nlp.input], outputs=head)"
   ]
  },
  {
   "cell_type": "code",
   "execution_count": null,
   "metadata": {
    "id": "St2XHVfmdTWy"
   },
   "outputs": [],
   "source": [
    "# Загрузим веса\n",
    "model.load_weights('models/mlp_nlp_cv/cv+nlp+mlp.hdf5')"
   ]
  },
  {
   "cell_type": "code",
   "execution_count": null,
   "metadata": {
    "id": "0LDMxMrsdTYf"
   },
   "outputs": [],
   "source": [
    "# сохраним для объединения\n",
    "predict_mlp_nlp_cv = model.predict(sub_dataset.batch(30))"
   ]
  },
  {
   "cell_type": "markdown",
   "metadata": {},
   "source": [
    "### Объединяю предикты"
   ]
  },
  {
   "cell_type": "code",
   "execution_count": null,
   "metadata": {
    "id": "HZEo8uCOdTcZ"
   },
   "outputs": [],
   "source": [
    "blend_sub_predict = ((predict_mlp*0.4) + (predict_mlp_nlp*0.2) + (predict_mlp_cv*0.2) + (predict_mlp_nlp_cv*0.2))\n",
    "sample_submission['price'] = blend_sub_predict\n",
    "sample_submission.to_csv('subs/mlp40_mlpnlp20_mlpcv20_mlpnlpcv20_submission.csv', index=False)"
   ]
  },
  {
   "cell_type": "markdown",
   "metadata": {
    "id": "mqMnauDze_3W"
   },
   "source": [
    "score: 11.09280"
   ]
  },
  {
   "cell_type": "markdown",
   "metadata": {
    "id": "VilHjvU3fQvy"
   },
   "source": [
    "## CatB(0.5) + (MLP(0.5) + MLP+NLP(0.3) + MLP+CV(0.2)) || sum / 2"
   ]
  },
  {
   "cell_type": "markdown",
   "metadata": {
    "id": "6CekHuvYPYL4"
   },
   "source": [
    "Объединим лучший результат с catboost"
   ]
  },
  {
   "cell_type": "code",
   "execution_count": null,
   "metadata": {
    "id": "Etipqqyp2OYK"
   },
   "outputs": [],
   "source": [
    "# загрузим сабмит с лучшим результатом\n",
    "sub2 = pd.read_csv('subs/mlp50_mlpnlp25_mlpcv25submission.csv')"
   ]
  },
  {
   "cell_type": "code",
   "execution_count": null,
   "metadata": {},
   "outputs": [],
   "source": [
    "# загрузим лучший результат для catboost\n",
    "sub_predict_catboost = pd.read_csv('subs/catboost_submission.csv')"
   ]
  },
  {
   "cell_type": "code",
   "execution_count": null,
   "metadata": {
    "id": "a1zKObs44AYJ"
   },
   "outputs": [],
   "source": [
    "blend_sub_predict = (sub_predict_catboost + np.array(sub2['price'])) / 2\n",
    "sample_submission['price'] = blend_sub_predict\n",
    "sample_submission.to_csv('subs/catb50_(mlp50_mlpnlp25_mlpcv25)_per2_submission.csv', index=False)"
   ]
  },
  {
   "cell_type": "markdown",
   "metadata": {
    "id": "19uMObpdPyiG"
   },
   "source": [
    "**score: 10.84581 (best result, top 12) - достигли лучшего результата**"
   ]
  }
 ],
 "metadata": {
  "colab": {
   "collapsed_sections": [
    "WVKbwLqCTomY",
    "ZWRnDWxwM7ho",
    "IzdW2e-ZUYpp",
    "OpwHE6kqY_C3",
    "LwUoGdT-ZEyL",
    "-d6AwQiiZUqx",
    "4Or7qTbPZrG0",
    "BL_ZQjTfb32H",
    "4jKgPXsscuJn",
    "EIwCuEucc_T4",
    "o9AP-013dWE_",
    "HrwofzUydyZF",
    "_gVX-d1IeaMf",
    "OUDmxXmte5Py",
    "yzhzzbfafNxz",
    "a5AmQNF_fbGe",
    "QN3l7HPAfyFo",
    "IPOmv_XZf8uo",
    "DGzC_uh_KxTy",
    "D9LNvctVQo7j",
    "8uccBaaap_5l",
    "6JtXYCWxqekO",
    "CgWwclutMazg",
    "TTm2Qpc4q0WX",
    "d2WTYNlQTrsC",
    "ZclcJr4KPVic",
    "QAacIY9gSVYz",
    "dD3xWl0cFyyn",
    "LYyv17t2IWHI",
    "vS-TJLSXHeBd",
    "uKgn00yiHtg4",
    "WPdHwFkAH0M3",
    "_7b86jy6Ikur",
    "YxXZgoF3RlDU",
    "os7WEPUQSkq3",
    "-JP6C43wT6xj",
    "25ZDh_YljEeK",
    "6fN4X29vQAb8",
    "zGrpH-q4Xlqm",
    "suJD72FgJ4kZ",
    "UY98g4vsP5SK",
    "_0cQ2naSUVN6",
    "wWhj_ECjSt-9",
    "iMjhoaZixBrx",
    "RnjmwhOP-dbQ",
    "97VxBCYVtcQw",
    "Hj-Fbj8pVwEu",
    "JN4rX8E2WHIm",
    "IbdYY3RRWQQa",
    "QClEc4HRWeFK",
    "fowaZJblFFDN",
    "bGCJuDq3K6ig",
    "iEatOw66M9G6",
    "ksrbpF5c93Eh",
    "Y3TONUDg97lq",
    "LlXY9Jz5ekIv",
    "mWfhyE3cspG_"
   ],
   "provenance": []
  },
  "gpuClass": "standard",
  "kernelspec": {
   "display_name": "Python 3",
   "language": "python",
   "name": "python3"
  },
  "language_info": {
   "codemirror_mode": {
    "name": "ipython",
    "version": 3
   },
   "file_extension": ".py",
   "mimetype": "text/x-python",
   "name": "python",
   "nbconvert_exporter": "python",
   "pygments_lexer": "ipython3",
   "version": "3.7.6"
  }
 },
 "nbformat": 4,
 "nbformat_minor": 1
}
